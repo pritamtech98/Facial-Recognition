{
 "cells": [
  {
   "cell_type": "code",
   "execution_count": 1,
   "metadata": {},
   "outputs": [],
   "source": [
    "import cv2\n",
    "import numpy as np\n",
    "import os"
   ]
  },
  {
   "cell_type": "code",
   "execution_count": 2,
   "metadata": {},
   "outputs": [
    {
     "name": "stdout",
     "output_type": "stream",
     "text": [
      "[[155. 146. 115. ... 118.  89.   0.]\n",
      " [160. 151. 123. ... 126.  96.   0.]\n",
      " [158. 149. 119. ... 126.  99.   0.]\n",
      " ...\n",
      " [159. 150. 123. ... 126.  95.   0.]\n",
      " [157. 148. 118. ... 128. 102.   0.]\n",
      " [162. 152. 125. ... 135. 111.   0.]]\n"
     ]
    }
   ],
   "source": [
    "face_data = []\n",
    "label = []\n",
    "names = {}\n",
    "\n",
    "class_id = 0\n",
    "\n",
    "data_path = 'faceData/'\n",
    "\n",
    "for fx in os.listdir(data_path):\n",
    "    if fx.endswith('.npy'):\n",
    "        names[class_id] = fx[:-4]\n",
    "        \n",
    "        data_item = np.load(data_path+fx)\n",
    "        face_data.append(data_item)\n",
    "        \n",
    "        target = class_id*np.ones((data_item.shape[0], ))\n",
    "        label.append(target)\n",
    "        class_id += 1\n",
    "        \n",
    "## DATA PREPARATION\n",
    "x_train = np.concatenate(face_data, axis = 0)\n",
    "y_train = np.concatenate(label, axis = 0).reshape((-1, 1))\n",
    "\n",
    "training_set = np.concatenate((x_train, y_train), axis = 1)\n",
    "print(training_set)\n",
    "\n",
    "\n",
    "        "
   ]
  },
  {
   "cell_type": "code",
   "execution_count": 3,
   "metadata": {},
   "outputs": [],
   "source": [
    "## KNN Algo\n",
    "\n",
    "def dist(x1, x2):\n",
    "    return np.sqrt(sum((x1 - x2)**2))\n",
    "\n",
    "def predict(training_data, test_data, k = 5):\n",
    "    \n",
    "    m = training_data.shape[0]\n",
    "    distances = []\n",
    "    for i in range(m):\n",
    "        X = training_data[i, :-1]\n",
    "        Y = training_data[i, -1]\n",
    "        dis = dist(test_data, X)\n",
    "        distances.append((dis, Y))\n",
    "        \n",
    "    distances.sort()\n",
    "    distances = np.array(distances[: k])\n",
    "    \n",
    "    counts = np.unique(distances[: -1], return_counts=True)\n",
    "    index = counts[1].argmax()\n",
    "    pred = counts[0][index]\n",
    "    \n",
    "    return pred\n"
   ]
  },
  {
   "cell_type": "code",
   "execution_count": 4,
   "metadata": {},
   "outputs": [],
   "source": [
    "## Testing Data\n",
    "\n",
    "cap = cv2.VideoCapture(0)\n",
    "cascades = cv2.CascadeClassifier(\"cascades/data/haarcascade_frontalface_alt.xml\")\n",
    "while True:\n",
    "    ret, frame = cap.read()\n",
    "    gray_frame = cv2.cvtColor(frame, cv2.COLOR_BGR2GRAY)\n",
    "    if ret == False:\n",
    "        continue\n",
    "    \n",
    "    faces = cascades.detectMultiScale(gray_frame, 1.3, 5)\n",
    "    for (x, y, w, h) in faces:\n",
    "        cv2.rectangle(frame, (x, y), (x+w, y+h), (233, 12, 123), 2)\n",
    "        offset = 10\n",
    "        small_frame = frame[y-offset:y+h+offset, x-offset:x+w+offset]\n",
    "        face_section = cv2.resize(small_frame, (100, 100))\n",
    "        \n",
    "        out = predict(training_set, face_section.flatten())\n",
    "        pred_name = names[int(out)]\n",
    "        \n",
    "        cv2.putText(frame, pred_name, (x, y-offset), cv2.FONT_HERSHEY_SIMPLEX, 1, (255, 0, 234), 2, cv2.LINE_AA)\n",
    "        cv2.rectangle(frame, (x, y), (x+w, y+h), (0, 255, 255), 2)\n",
    "        \n",
    "    cv2.imshow(\"Facial Recognition\", frame)\n",
    "    \n",
    "    key = cv2.waitKey(1) & 0xFF\n",
    "    if(key == ord('q')):\n",
    "        break\n",
    "        \n",
    "cap.release()\n",
    "cv2.destroyAllWindows()"
   ]
  },
  {
   "cell_type": "code",
   "execution_count": 7,
   "metadata": {},
   "outputs": [],
   "source": [
    "cap.release()"
   ]
  },
  {
   "cell_type": "code",
   "execution_count": null,
   "metadata": {},
   "outputs": [],
   "source": []
  }
 ],
 "metadata": {
  "kernelspec": {
   "display_name": "Python 3",
   "language": "python",
   "name": "python3"
  },
  "language_info": {
   "codemirror_mode": {
    "name": "ipython",
    "version": 3
   },
   "file_extension": ".py",
   "mimetype": "text/x-python",
   "name": "python",
   "nbconvert_exporter": "python",
   "pygments_lexer": "ipython3",
   "version": "3.7.3"
  }
 },
 "nbformat": 4,
 "nbformat_minor": 2
}
